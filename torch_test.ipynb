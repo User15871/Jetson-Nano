{
 "cells": [
  {
   "cell_type": "code",
   "execution_count": 1,
   "id": "3c40e805",
   "metadata": {},
   "outputs": [],
   "source": [
    "import torch\n",
    "import torchvision"
   ]
  },
  {
   "cell_type": "code",
   "execution_count": 4,
   "id": "2408ecbe",
   "metadata": {},
   "outputs": [
    {
     "name": "stdout",
     "output_type": "stream",
     "text": [
      "1.6.0\n",
      "0.7.0a0+78ed10c\n",
      "CUDA:  True\n",
      "tensor([0., 0.], device='cuda:0')\n",
      "tensor([-0.3655,  0.2321], device='cuda:0')\n",
      "tensor([-0.3655,  0.2321], device='cuda:0')\n"
     ]
    }
   ],
   "source": [
    "print(torch.__version__)\n",
    "print(torchvision.__version__)\n",
    "print('CUDA: ', torch.cuda.is_available())\n",
    "a = torch.cuda.FloatTensor(2).zero_()\n",
    "print(a)\n",
    "b = torch.randn(2).cuda()\n",
    "print(b)\n",
    "c = a + b\n",
    "print(c)"
   ]
  }
 ],
 "metadata": {
  "kernelspec": {
   "display_name": "Python 3",
   "language": "python",
   "name": "python3"
  },
  "language_info": {
   "codemirror_mode": {
    "name": "ipython",
    "version": 3
   },
   "file_extension": ".py",
   "mimetype": "text/x-python",
   "name": "python",
   "nbconvert_exporter": "python",
   "pygments_lexer": "ipython3",
   "version": "3.6.9"
  }
 },
 "nbformat": 4,
 "nbformat_minor": 5
}
